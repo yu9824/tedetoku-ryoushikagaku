{
 "cells": [
  {
   "cell_type": "markdown",
   "metadata": {},
   "source": [
    "> He およびＨの核座標がそれぞれ (0, 0, 0)， (0, 0, 1.4) （bohr単位） のとき， HeH＋  の基底状態 （1σ2） に対する RHF波動関数とRHF エネルギーを求めよ． 基底関数は  STO-NG (N＝1, 2, 3, 4, 5, 6) のいずれかとして， 付録の HeH系の分子積分の値を用  いよ． SCF の収束判定は， エネルギーについてのみ行い， 閾値は 0.0001 hartree とせ  よ． また， 得られた RHF波動関数を用いて Mulliken の電子密度解析を行い， He お  よびＨ原子の電荷を求めよ． \n",
    ">\n",
    "> 中井浩巳. 手で解く量子化学 I (p. 86). (Function). Kindle Edition. "
   ]
  },
  {
   "cell_type": "markdown",
   "metadata": {},
   "source": [
    "基底関数は、STO-6Gとする。"
   ]
  },
  {
   "cell_type": "code",
   "execution_count": 1,
   "metadata": {},
   "outputs": [],
   "source": [
    "from types import MappingProxyType\n",
    "from itertools import product\n",
    "\n",
    "import numpy as np\n",
    "from scipy.linalg import ishermitian"
   ]
  },
  {
   "cell_type": "markdown",
   "metadata": {},
   "source": [
    "## 対象分子の設定"
   ]
  },
  {
   "cell_type": "markdown",
   "metadata": {},
   "source": [
    "核電荷$Z_\\mathrm{He}=2.0$, $Z_\\mathrm{H}=1.0$, 核座標$\\bm{R_\\mathrm{He}}=(0.0, 0.0, 0.0)$, $\\bm{R_\\mathrm{H}}=(0.0, 0.0, 1.4)$より、核反発エネルギー"
   ]
  },
  {
   "cell_type": "markdown",
   "metadata": {},
   "source": [
    "$$\n",
    "V_\\mathrm{nuc} = \\sum_{A=1}^M \\sum_{B>A}^M \\frac{Z_A Z_B}{R_{AB}}   \\tag{3.2}\n",
    "$$"
   ]
  },
  {
   "cell_type": "code",
   "execution_count": 2,
   "metadata": {},
   "outputs": [
    {
     "data": {
      "text/plain": [
       "'Hの核電荷'"
      ]
     },
     "execution_count": 2,
     "metadata": {},
     "output_type": "execute_result"
    }
   ],
   "source": [
    "Z_He = 2.0\n",
    "\"\"\"Heの核電荷\"\"\"\n",
    "Z_H = 1.0\n",
    "\"\"\"Hの核電荷\"\"\""
   ]
  },
  {
   "cell_type": "code",
   "execution_count": 3,
   "metadata": {},
   "outputs": [
    {
     "data": {
      "text/plain": [
       "1.4285714285714286"
      ]
     },
     "execution_count": 3,
     "metadata": {},
     "output_type": "execute_result"
    }
   ],
   "source": [
    "V_nuc = (Z_He * Z_H) / 1.4\n",
    "\"\"\"核間のポテンシャルエネルギー\"\"\"\n",
    "V_nuc"
   ]
  },
  {
   "cell_type": "markdown",
   "metadata": {},
   "source": [
    "## 正準直行化の実行"
   ]
  },
  {
   "cell_type": "code",
   "execution_count": 4,
   "metadata": {},
   "outputs": [
    {
     "data": {
      "text/plain": [
       "array([[1.     , 0.56059],\n",
       "       [0.56059, 1.     ]])"
      ]
     },
     "execution_count": 4,
     "metadata": {},
     "output_type": "execute_result"
    }
   ],
   "source": [
    "S = np.array([[1.0, 0.56059], [0.56059, 1.0]])\n",
    "\"\"\"重なり行列 (付録より)\"\"\"\n",
    "S"
   ]
  },
  {
   "cell_type": "code",
   "execution_count": 5,
   "metadata": {},
   "outputs": [
    {
     "name": "stdout",
     "output_type": "stream",
     "text": [
      "s=array([[ 0.43941,  0.     ],\n",
      "       [-0.     ,  1.56059]])\n",
      "U=array([[-0.70710678,  0.70710678],\n",
      "       [ 0.70710678,  0.70710678]])\n"
     ]
    }
   ],
   "source": [
    "def unitary_diagonalization(arr: np.ndarray) -> tuple[np.ndarray, np.ndarray]:\n",
    "    \"\"\"ユニタリ対角化関数\n",
    "\n",
    "    Parameters\n",
    "    ----------\n",
    "    arr : np.ndarray\n",
    "        対角化する行列\n",
    "\n",
    "    Returns\n",
    "    -------\n",
    "    tuple[np.ndarray, np.ndarray]\n",
    "        対角化された行列とユニタリ行列\n",
    "\n",
    "    Raises\n",
    "    ------\n",
    "    ValueError\n",
    "        エルミート行列でない場合\n",
    "    \"\"\"\n",
    "    if ishermitian(arr, rtol=1e-05, atol=1e-08):\n",
    "        # エルミート行列の固有ベクトル\n",
    "        _, u = np.linalg.eigh(arr)\n",
    "\n",
    "        # Uの随伴行列(共役転置)\n",
    "        u_dagger = np.conjugate(u.T)\n",
    "\n",
    "        # エルミート行列をユニタリ行列で対角化\n",
    "        diag_matrix = u_dagger @ arr @ u\n",
    "\n",
    "        # データ型を整数に変更して小さな誤差が入っている虚部を取り除く\n",
    "        # 単位行列をかけて対角成分以外の要素の誤差を小さくする\n",
    "        diag_matrix = diag_matrix.astype(np.float64) * np.identity(\n",
    "            arr.shape[0], dtype=np.float64\n",
    "        )\n",
    "\n",
    "        return diag_matrix, u\n",
    "    else:\n",
    "        raise ValueError(\"The matrix is not Hermitian.\")\n",
    "\n",
    "\n",
    "s, U = unitary_diagonalization(S)\n",
    "print(f\"{s=}\")\n",
    "print(f\"{U=}\")"
   ]
  },
  {
   "cell_type": "markdown",
   "metadata": {},
   "source": [
    "正準直交化の変換行列 $X$ は、\n",
    "\n",
    "$$\n",
    "X_\\mathrm{can} = U s^{-\\frac{1}{2}} \\tag{4.36}\n",
    "$$"
   ]
  },
  {
   "cell_type": "code",
   "execution_count": 6,
   "metadata": {},
   "outputs": [
    {
     "data": {
      "text/plain": [
       "array([[1.50856849, 0.        ],\n",
       "       [0.        , 0.80048941]])"
      ]
     },
     "execution_count": 6,
     "metadata": {},
     "output_type": "execute_result"
    }
   ],
   "source": [
    "# 行列を^(-1/2)する。'-' は逆行列の意味\n",
    "def inverse_sqrt_matrix(arr: np.ndarray) -> np.ndarray:\n",
    "    \"\"\"行列の^(-1/2)を計算する関数\n",
    "\n",
    "    Parameters\n",
    "    ----------\n",
    "    arr : np.ndarray\n",
    "        ^(-1/2)を計算する行列\n",
    "\n",
    "    Returns\n",
    "    -------\n",
    "    np.ndarray\n",
    "        ^(-1/2)された行列\n",
    "    \"\"\"\n",
    "    return np.linalg.inv(np.sqrt(arr))\n",
    "\n",
    "\n",
    "inverse_sqrt_matrix(s)"
   ]
  },
  {
   "cell_type": "code",
   "execution_count": 7,
   "metadata": {},
   "outputs": [
    {
     "data": {
      "text/plain": [
       "array([[-1.06671901,  0.56603149],\n",
       "       [ 1.06671901,  0.56603149]])"
      ]
     },
     "execution_count": 7,
     "metadata": {},
     "output_type": "execute_result"
    }
   ],
   "source": [
    "X = U @ inverse_sqrt_matrix(s)\n",
    "\"\"\"正準直行化の変換行列\"\"\"\n",
    "X"
   ]
  },
  {
   "cell_type": "markdown",
   "metadata": {},
   "source": [
    "## コアハミルトニアン行列の計算"
   ]
  },
  {
   "cell_type": "code",
   "execution_count": 8,
   "metadata": {},
   "outputs": [
    {
     "data": {
      "text/plain": [
       "array([[-2.6444, -1.5118],\n",
       "       [-1.5118, -1.7782]])"
      ]
     },
     "execution_count": 8,
     "metadata": {},
     "output_type": "execute_result"
    }
   ],
   "source": [
    "H = np.array([[-2.6444, -1.5118], [-1.5118, -1.7782]])\n",
    "\"\"\"コアハミルトニアン行列 (付録より)\"\"\"\n",
    "H"
   ]
  },
  {
   "cell_type": "markdown",
   "metadata": {},
   "source": [
    "## 密度行列の初期値"
   ]
  },
  {
   "cell_type": "markdown",
   "metadata": {},
   "source": [
    "直行化基底に対するコアハミルトン行列 $H'$ は、\n",
    "\n",
    "$$\n",
    "H'=X^T HX   \\tag{4.2}\n",
    "$$"
   ]
  },
  {
   "cell_type": "code",
   "execution_count": 9,
   "metadata": {},
   "outputs": [
    {
     "data": {
      "text/plain": [
       "array([[-1.59190733,  0.52300857],\n",
       "       [ 0.52300857, -2.38570028]])"
      ]
     },
     "execution_count": 9,
     "metadata": {},
     "output_type": "execute_result"
    }
   ],
   "source": [
    "H_prime = X.T @ H @ X\n",
    "\"\"\"正準直交化基底に対するコアハミルトニアン行列\"\"\"\n",
    "H_prime"
   ]
  },
  {
   "cell_type": "code",
   "execution_count": 10,
   "metadata": {},
   "outputs": [
    {
     "data": {
      "text/plain": [
       "array([[-0.44468334, -0.89568785],\n",
       "       [ 0.89568785, -0.44468334]])"
      ]
     },
     "execution_count": 10,
     "metadata": {},
     "output_type": "execute_result"
    }
   ],
   "source": [
    "_, C_prime = unitary_diagonalization(H_prime)\n",
    "\"\"\"正準直交化基底に対する分子軌道係数行列\"\"\"\n",
    "C_prime"
   ]
  },
  {
   "cell_type": "code",
   "execution_count": 11,
   "metadata": {},
   "outputs": [
    {
     "data": {
      "text/plain": [
       "array([[ 0.9813397 ,  0.70374249],\n",
       "       [ 0.03263536, -1.20715203]])"
      ]
     },
     "execution_count": 11,
     "metadata": {},
     "output_type": "execute_result"
    }
   ],
   "source": [
    "C = X @ C_prime\n",
    "\"\"\"分子軌道係数行列\"\"\"\n",
    "C"
   ]
  },
  {
   "cell_type": "markdown",
   "metadata": {},
   "source": [
    "密度行列 $\\bm{P}$ は、\n",
    "\n",
    "$$\n",
    "P_{\\mu\\nu} = 2 \\sum_{i} c_{\\mu i}^* c_{\\nu i} \\tag{4.19}\n",
    "$$\n",
    "\n",
    "$i$は、分子軌道の足、$\\mu, \\nu$は原子軌道の足"
   ]
  },
  {
   "cell_type": "markdown",
   "metadata": {},
   "source": [
    "HeH+ では、占有軌道 $\\varphi_1$ だけなので、 ($1\\sigma$ 軌道だけという意味と解釈)"
   ]
  },
  {
   "cell_type": "code",
   "execution_count": 12,
   "metadata": {},
   "outputs": [
    {
     "data": {
      "text/plain": [
       "array([[1.92605521, 0.06405275],\n",
       "       [0.06405275, 0.00213013]])"
      ]
     },
     "execution_count": 12,
     "metadata": {},
     "output_type": "execute_result"
    }
   ],
   "source": [
    "def calculate_density_matrix(C: np.ndarray) -> np.ndarray:\n",
    "    \"\"\"密度行列を計算する関数\n",
    "\n",
    "    Parameters\n",
    "    ----------\n",
    "    C : np.ndarray\n",
    "        分子軌道係数行列\n",
    "\n",
    "    Returns\n",
    "    -------\n",
    "    np.ndarray\n",
    "        密度行列\n",
    "    \"\"\"\n",
    "    return 2 * (C[:, [0]] @ C[:, [0]].T)\n",
    "\n",
    "\n",
    "P = calculate_density_matrix(C)\n",
    "\"\"\"密度行列\"\"\"\n",
    "P"
   ]
  },
  {
   "cell_type": "markdown",
   "metadata": {},
   "source": [
    "## 電子反発積分の計算"
   ]
  },
  {
   "cell_type": "code",
   "execution_count": 13,
   "metadata": {},
   "outputs": [],
   "source": [
    "MAP_ELECTRON_REPULSION_INTEGRAL = MappingProxyType(\n",
    "    {\n",
    "        ((1, 1), (1, 1)): 1.05625,\n",
    "        ((1, 1), (1, 2)): 0.46768,\n",
    "        ((1, 1), (2, 1)): 0.46768,\n",
    "        ((1, 1), (2, 2)): 0.60640,\n",
    "        ((1, 2), (1, 1)): 0.46768,\n",
    "        ((1, 2), (1, 2)): 0.24649,\n",
    "        ((1, 2), (2, 1)): 0.24649,\n",
    "        ((1, 2), (2, 2)): 0.38871,\n",
    "        ((2, 1), (1, 1)): 0.46768,\n",
    "        ((2, 1), (1, 2)): 0.24649,\n",
    "        ((2, 1), (2, 1)): 0.24649,\n",
    "        ((2, 1), (2, 2)): 0.38871,\n",
    "        ((2, 2), (1, 1)): 0.60640,\n",
    "        ((2, 2), (1, 2)): 0.38871,\n",
    "        ((2, 2), (2, 1)): 0.38871,\n",
    "        ((2, 2), (2, 2)): 0.77500,\n",
    "    }\n",
    ")\n",
    "\"\"\"電子反発積分 (付録より)\"\"\"\n",
    "None"
   ]
  },
  {
   "cell_type": "markdown",
   "metadata": {},
   "source": [
    "## Fock行列の計算"
   ]
  },
  {
   "cell_type": "markdown",
   "metadata": {},
   "source": [
    "$$\n",
    "F_{\\mu \\nu} = H_{\\mu \\nu} + G_{\\mu \\nu} \\tag{4.3} \\\\\n",
    "$$\n",
    "\n",
    "$H_{\\mu \\nu}$ は、[先ほど](#コアハミルトニアン行列の計算)求めているので、$G_{\\mu \\nu}$ を求めたい。\n",
    "\n",
    "$$\n",
    "\\begin{align*}\n",
    "    J_{\\mu \\nu} &= \\sum_{\\lambda, \\sigma} (\\mu \\nu | \\lambda \\sigma) P_{\\lambda \\sigma} \\tag{4.25} \\\\\n",
    "    K_{\\mu \\nu} &= \\sum_{\\lambda, \\sigma} (\\mu \\sigma | \\lambda \\nu) P_{\\lambda \\sigma} \\tag{4.26} \\\\\n",
    "    G_{\\mu \\nu} &= J_{\\mu \\nu} - \\frac{1}{2} K_{\\mu \\nu} \\tag{4.27} \\\\\n",
    "\\end{align*}\n",
    "$$"
   ]
  },
  {
   "cell_type": "code",
   "execution_count": 14,
   "metadata": {},
   "outputs": [
    {
     "data": {
      "text/plain": [
       "array([[2.0955999 , 0.93318223],\n",
       "       [0.93318223, 1.21940662]])"
      ]
     },
     "execution_count": 14,
     "metadata": {},
     "output_type": "execute_result"
    }
   ],
   "source": [
    "def calculate_coulomb_energy_matrix(P: np.ndarray) -> np.ndarray:\n",
    "    \"\"\"クーロンエネルギー行列を計算する関数\n",
    "\n",
    "    Parameters\n",
    "    ----------\n",
    "    P : np.ndarray\n",
    "        密度行列\n",
    "\n",
    "    Returns\n",
    "    -------\n",
    "    np.ndarray\n",
    "        クーロンエネルギー行列\n",
    "    \"\"\"\n",
    "    return np.array(\n",
    "        [\n",
    "            [\n",
    "                sum(\n",
    "                    MAP_ELECTRON_REPULSION_INTEGRAL[\n",
    "                        (_mu, _nu), (_lambda, _sigma)\n",
    "                    ]\n",
    "                    * P[_lambda - 1, _sigma - 1]  # Pは0-indexedなので-1する\n",
    "                    for _lambda, _sigma in product((1, 2), repeat=2)\n",
    "                )\n",
    "                for _nu in (1, 2)\n",
    "            ]\n",
    "            for _mu in (1, 2)\n",
    "        ]\n",
    "    )\n",
    "\n",
    "\n",
    "J = calculate_coulomb_energy_matrix(P)\n",
    "\"\"\"クーロンエネルギー行列\"\"\"\n",
    "J"
   ]
  },
  {
   "cell_type": "code",
   "execution_count": 15,
   "metadata": {},
   "outputs": [
    {
     "data": {
      "text/plain": [
       "array([[2.09483325, 0.95623545],\n",
       "       [0.95623545, 0.52620009]])"
      ]
     },
     "execution_count": 15,
     "metadata": {},
     "output_type": "execute_result"
    }
   ],
   "source": [
    "def calculate_exchange_energy_matrix(P: np.ndarray) -> np.ndarray:\n",
    "    \"\"\"交換エネルギー行列を計算する関数\n",
    "\n",
    "    Parameters\n",
    "    ----------\n",
    "    P : np.ndarray\n",
    "        密度行列\n",
    "\n",
    "    Returns\n",
    "    -------\n",
    "    np.ndarray\n",
    "        交換エネルギー行列\n",
    "    \"\"\"\n",
    "    return np.array(\n",
    "        [\n",
    "            [\n",
    "                sum(\n",
    "                    MAP_ELECTRON_REPULSION_INTEGRAL[\n",
    "                        (_mu, _sigma), (_lambda, _nu)\n",
    "                    ]\n",
    "                    * P[_lambda - 1, _sigma - 1]  # Pは0-indexedなので-1する\n",
    "                    for _lambda, _sigma in product((1, 2), repeat=2)\n",
    "                )\n",
    "                for _nu in (1, 2)\n",
    "            ]\n",
    "            for _mu in (1, 2)\n",
    "        ]\n",
    "    )\n",
    "\n",
    "\n",
    "K = calculate_exchange_energy_matrix(P)\n",
    "\"\"\"交換エネルギー行列\"\"\"\n",
    "K"
   ]
  },
  {
   "cell_type": "code",
   "execution_count": 16,
   "metadata": {},
   "outputs": [
    {
     "data": {
      "text/plain": [
       "array([[1.04818328, 0.4550645 ],\n",
       "       [0.4550645 , 0.95630657]])"
      ]
     },
     "execution_count": 16,
     "metadata": {},
     "output_type": "execute_result"
    }
   ],
   "source": [
    "G = J - 0.5 * K\n",
    "\"\"\"2電子積分行列\"\"\"\n",
    "G"
   ]
  },
  {
   "cell_type": "code",
   "execution_count": 17,
   "metadata": {},
   "outputs": [
    {
     "data": {
      "text/plain": [
       "array([[-1.59621672, -1.0567355 ],\n",
       "       [-1.0567355 , -0.82189343]])"
      ]
     },
     "execution_count": 17,
     "metadata": {},
     "output_type": "execute_result"
    }
   ],
   "source": [
    "F = H + G\n",
    "\"\"\"Fock行列\"\"\"\n",
    "F"
   ]
  },
  {
   "cell_type": "code",
   "execution_count": 18,
   "metadata": {},
   "outputs": [
    {
     "data": {
      "text/plain": [
       "array([[-1.59621672, -1.0567355 ],\n",
       "       [-1.0567355 , -0.82189343]])"
      ]
     },
     "execution_count": 18,
     "metadata": {},
     "output_type": "execute_result"
    }
   ],
   "source": [
    "def density2fock(P: np.ndarray) -> np.ndarray:\n",
    "    \"\"\"密度行列からFock行列を計算する関数\n",
    "\n",
    "    Parameters\n",
    "    ----------\n",
    "    P : np.ndarray\n",
    "        密度行列\n",
    "\n",
    "    Returns\n",
    "    -------\n",
    "    np.ndarray\n",
    "        Fock行列\n",
    "    \"\"\"\n",
    "    G = calculate_coulomb_energy_matrix(\n",
    "        P\n",
    "    ) - 0.5 * calculate_exchange_energy_matrix(P)\n",
    "    return H + G\n",
    "\n",
    "\n",
    "density2fock(P)"
   ]
  },
  {
   "cell_type": "markdown",
   "metadata": {},
   "source": [
    "## RHFエネルギーの計算"
   ]
  },
  {
   "cell_type": "code",
   "execution_count": 19,
   "metadata": {},
   "outputs": [
    {
     "data": {
      "text/plain": [
       "-4.251121986217489"
      ]
     },
     "execution_count": 19,
     "metadata": {},
     "output_type": "execute_result"
    }
   ],
   "source": [
    "E_0 = 0.5 * np.sum(P * (H + F))\n",
    "\"\"\"ハミルトニアンに対するRHFエネルギー\"\"\"\n",
    "E_0"
   ]
  },
  {
   "cell_type": "code",
   "execution_count": 20,
   "metadata": {},
   "outputs": [
    {
     "data": {
      "text/plain": [
       "-2.8225505576460606"
      ]
     },
     "execution_count": 20,
     "metadata": {},
     "output_type": "execute_result"
    }
   ],
   "source": [
    "E_tot = E_0 + V_nuc\n",
    "\"\"\"RHF全エネルギー\"\"\"\n",
    "E_tot"
   ]
  },
  {
   "cell_type": "code",
   "execution_count": 21,
   "metadata": {},
   "outputs": [
    {
     "data": {
      "text/plain": [
       "-2.8225505576460606"
      ]
     },
     "execution_count": 21,
     "metadata": {},
     "output_type": "execute_result"
    }
   ],
   "source": [
    "def calculate_total_energy(P: np.ndarray) -> float:\n",
    "    \"\"\"全エネルギーを計算する関数\n",
    "\n",
    "    Parameters\n",
    "    ----------\n",
    "    P : np.ndarray\n",
    "        密度行列\n",
    "\n",
    "    Returns\n",
    "    -------\n",
    "    float\n",
    "        全エネルギー\n",
    "    \"\"\"\n",
    "    F = density2fock(P)\n",
    "    return 0.5 * np.sum(P * (H + F)) + V_nuc\n",
    "\n",
    "\n",
    "calculate_total_energy(P)"
   ]
  },
  {
   "cell_type": "markdown",
   "metadata": {},
   "source": [
    "## Roothan-hall方程式の解法\n",
    "\n",
    "基本的には[Fock行列を求める](#fock行列の計算)から[RHFエネルギーの計算](#rhfエネルギーの計算)までを繰り返して、収束要件を満たしたら終わり。"
   ]
  },
  {
   "cell_type": "code",
   "execution_count": 22,
   "metadata": {},
   "outputs": [],
   "source": [
    "def scf_cycle(\n",
    "    P: np.ndarray, threshold: float = 1e-4\n",
    ") -> tuple[float, np.ndarray]:\n",
    "    \"\"\"SCFサイクルを行う関数\n",
    "\n",
    "    Parameters\n",
    "    ----------\n",
    "    P : np.ndarray\n",
    "        密度行列\n",
    "\n",
    "    Returns\n",
    "    -------\n",
    "    tuple[float, np.ndarray]\n",
    "        全エネルギーと密度行列\n",
    "    \"\"\"\n",
    "    # 初期化\n",
    "    E_tot_prev = np.inf\n",
    "    # 全エネルギー\n",
    "    E_tot = calculate_total_energy(P)\n",
    "    # 収束判定 (全エネルギーの変化量が閾値以下になるまで繰り返す)\n",
    "    while (E_tot_prev - E_tot) > threshold:\n",
    "        print(f\"{E_tot=}\")\n",
    "        # 全エネルギーを保存\n",
    "        E_tot_prev = E_tot\n",
    "        # 密度行列からFock行列を計算\n",
    "        F = density2fock(P)\n",
    "        # 直交化基底に対するFock行列\n",
    "        F_prime = X.T @ F @ X\n",
    "        # Fock行列をユニタリ対角化して、(軌道エネルギーと) 分子軌道係数行列を求める\n",
    "        _, C_prime = unitary_diagonalization(F_prime)\n",
    "        # 分子軌道係数行列を元の基底に戻す\n",
    "        C = X @ C_prime\n",
    "        # 密度行列を計算\n",
    "        P = calculate_density_matrix(C)\n",
    "        # 全エネルギーを計算\n",
    "        E_tot = calculate_total_energy(P)\n",
    "    return E_tot, P"
   ]
  },
  {
   "cell_type": "code",
   "execution_count": 23,
   "metadata": {},
   "outputs": [
    {
     "name": "stdout",
     "output_type": "stream",
     "text": [
      "E_tot=-2.8225505576460606\n",
      "E_tot=-2.864445821020837\n",
      "E_tot=-2.8658389239085054\n",
      "energy_total_opt=-2.865873981640341\n",
      "P_opt=array([[1.54690179, 0.3381835 ],\n",
      "       [0.3381835 , 0.07393364]])\n"
     ]
    }
   ],
   "source": [
    "energy_total_opt, P_opt = scf_cycle(P)\n",
    "print(f\"{energy_total_opt=}\")\n",
    "print(f\"{P_opt=}\")"
   ]
  },
  {
   "cell_type": "markdown",
   "metadata": {},
   "source": [
    "## 分子物性の計算"
   ]
  },
  {
   "cell_type": "markdown",
   "metadata": {},
   "source": [
    "Mullikenの電荷解析\n",
    "\n",
    "$$\n",
    "N_A^\\mathrm{Mul} = \\sum_{\\mu \\in A} \\sum_{\\nu} P_{\\mu \\nu} S_{\\nu \\mu} = \\sum_{\\mu \\in A} (\\rm{PS})_{\\mu \\mu} \\tag{4.53}\n",
    "$$"
   ]
  },
  {
   "cell_type": "code",
   "execution_count": 24,
   "metadata": {},
   "outputs": [
    {
     "name": "stdout",
     "output_type": "stream",
     "text": [
      "N_He=1.7364840755636173\n",
      "N_H=0.26351592443638283\n"
     ]
    }
   ],
   "source": [
    "N_He = (P_opt @ S)[0, 0]\n",
    "\"\"\"Heの電子数\"\"\"\n",
    "N_H = (P_opt @ S)[1, 1]\n",
    "\"\"\"Hの電子数\"\"\"\n",
    "print(f\"{N_He=}\")\n",
    "print(f\"{N_H=}\")"
   ]
  },
  {
   "cell_type": "markdown",
   "metadata": {},
   "source": [
    "よって、Mulliken電荷は、\n",
    "$$\n",
    "Q_A = Z_A - N_A^\\mathrm{mul} \\tag{4.54}\n",
    "$$\n",
    "より、"
   ]
  },
  {
   "cell_type": "code",
   "execution_count": 25,
   "metadata": {},
   "outputs": [
    {
     "name": "stdout",
     "output_type": "stream",
     "text": [
      "Q_He=0.2635159244363827\n",
      "Q_H=0.7364840755636172\n"
     ]
    }
   ],
   "source": [
    "Q_He = Z_He - N_He\n",
    "\"\"\"Heの電荷\"\"\"\n",
    "Q_H = Z_H - N_H\n",
    "\"\"\"Hの電荷\"\"\"\n",
    "print(f\"{Q_He=}\")\n",
    "print(f\"{Q_H=}\")"
   ]
  },
  {
   "cell_type": "code",
   "execution_count": 26,
   "metadata": {},
   "outputs": [
    {
     "name": "stdout",
     "output_type": "stream",
     "text": [
      "epsilon_opt=array([[-1.67213202,  0.        ],\n",
      "       [ 0.        , -0.15970469]])\n",
      "C_opt=array([[ 0.8790552 ,  0.82797527],\n",
      "       [ 0.19285139, -1.19209456]])\n"
     ]
    }
   ],
   "source": [
    "epsilon_opt, C_prime_opt = unitary_diagonalization(\n",
    "    X.T @ density2fock(P_opt) @ X\n",
    ")\n",
    "C_opt = X @ C_prime_opt\n",
    "print(f\"{epsilon_opt=}\")\n",
    "print(f\"{C_opt=}\")"
   ]
  }
 ],
 "metadata": {
  "jupytext": {
   "formats": "ipynb,py:percent"
  },
  "kernelspec": {
   "display_name": "py311",
   "language": "python",
   "name": "python3"
  },
  "language_info": {
   "codemirror_mode": {
    "name": "ipython",
    "version": 3
   },
   "file_extension": ".py",
   "mimetype": "text/x-python",
   "name": "python",
   "nbconvert_exporter": "python",
   "pygments_lexer": "ipython3",
   "version": "3.11.11"
  }
 },
 "nbformat": 4,
 "nbformat_minor": 2
}
