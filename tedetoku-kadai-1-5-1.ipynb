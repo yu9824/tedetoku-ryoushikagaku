{
 "cells": [
  {
   "cell_type": "markdown",
   "metadata": {},
   "source": [
    "> He およびＨの核座標が， それぞれ (0, 0,0)， (0, 0, 1.4) （bohr単位） のとき，  HeH の基底状態 （1σ2 2σ1） に対する UHF波動関数とUHF エネルギーを求めよ． 基底  関数は STO-NG (N＝1, 2, 3, 4, 5, 6) のいずれかとして， 付録の HeH 系の分子積分  の値を用 い よ． SCF の収束判定は， エ ネ ル ギ ー に つ い て の み行い， 閾値は  0.0001 hartree とせよ． また， 得られた UHF波動関数を用いて Mulliken の電子密度  解析を行い， He およびＨ原子の電荷およびスピン密度を求めよ． \n",
    "> \n",
    "> 中井浩巳. 手で解く量子化学 I (p. 99). (Function). Kindle Edition. "
   ]
  },
  {
   "cell_type": "markdown",
   "metadata": {},
   "source": [
    "基底関数は、STO-6Gとする。"
   ]
  },
  {
   "cell_type": "code",
   "execution_count": 1,
   "metadata": {},
   "outputs": [],
   "source": [
    "from types import MappingProxyType\n",
    "from itertools import product\n",
    "\n",
    "import numpy as np\n",
    "from scipy.linalg import ishermitian"
   ]
  },
  {
   "cell_type": "markdown",
   "metadata": {},
   "source": [
    "## 対象分子の設定"
   ]
  },
  {
   "cell_type": "markdown",
   "metadata": {},
   "source": [
    "核電荷$Z_\\mathrm{He}=2.0$, $Z_\\mathrm{H}=1.0$, 核座標$\\boldsymbol{R}_\\mathrm{He}=(0.0, 0.0, 0.0)$, $\\boldsymbol{R}_\\mathrm{H}=(0.0, 0.0, 1.4)$より、核反発エネルギー"
   ]
  },
  {
   "cell_type": "markdown",
   "metadata": {},
   "source": [
    "$$\n",
    "V_\\mathrm{nuc} = \\sum_{A=1}^M \\sum_{B>A}^M \\frac{Z_A Z_B}{R_{AB}}   \\tag{3.2}\n",
    "$$"
   ]
  },
  {
   "cell_type": "code",
   "execution_count": 2,
   "metadata": {},
   "outputs": [
    {
     "data": {
      "text/plain": [
       "'Hの核電荷'"
      ]
     },
     "execution_count": 2,
     "metadata": {},
     "output_type": "execute_result"
    }
   ],
   "source": [
    "Z_He = 2.0\n",
    "\"\"\"Heの核電荷\"\"\"\n",
    "Z_H = 1.0\n",
    "\"\"\"Hの核電荷\"\"\""
   ]
  },
  {
   "cell_type": "code",
   "execution_count": 3,
   "metadata": {},
   "outputs": [
    {
     "data": {
      "text/plain": [
       "1.4285714285714286"
      ]
     },
     "execution_count": 3,
     "metadata": {},
     "output_type": "execute_result"
    }
   ],
   "source": [
    "V_nuc = (Z_He * Z_H) / 1.4\n",
    "\"\"\"核間のポテンシャルエネルギー\"\"\"\n",
    "V_nuc"
   ]
  },
  {
   "cell_type": "code",
   "execution_count": 4,
   "metadata": {},
   "outputs": [
    {
     "data": {
      "text/plain": [
       "'downスピンの電子数'"
      ]
     },
     "execution_count": 4,
     "metadata": {},
     "output_type": "execute_result"
    }
   ],
   "source": [
    "N_alpha = 2\n",
    "\"\"\"upスピンの電子数\"\"\"\n",
    "N_beta = 1\n",
    "\"\"\"downスピンの電子数\"\"\""
   ]
  },
  {
   "cell_type": "markdown",
   "metadata": {},
   "source": [
    "## 正準直行化の実行\n",
    "\n",
    "重なり積分 $\\boldsymbol{S}$ は、核座標と基底関数にのみ依存し、電子数には依存しない。"
   ]
  },
  {
   "cell_type": "code",
   "execution_count": 5,
   "metadata": {},
   "outputs": [
    {
     "data": {
      "text/plain": [
       "array([[1.     , 0.56059],\n",
       "       [0.56059, 1.     ]])"
      ]
     },
     "execution_count": 5,
     "metadata": {},
     "output_type": "execute_result"
    }
   ],
   "source": [
    "S = np.array([[1.0, 0.56059], [0.56059, 1.0]])\n",
    "\"\"\"重なり行列 (付録より)\"\"\"\n",
    "S"
   ]
  },
  {
   "cell_type": "code",
   "execution_count": 6,
   "metadata": {},
   "outputs": [
    {
     "name": "stdout",
     "output_type": "stream",
     "text": [
      "s=array([[ 0.43941,  0.     ],\n",
      "       [-0.     ,  1.56059]])\n",
      "U=array([[-0.70710678,  0.70710678],\n",
      "       [ 0.70710678,  0.70710678]])\n"
     ]
    }
   ],
   "source": [
    "def unitary_diagonalization(arr: np.ndarray) -> tuple[np.ndarray, np.ndarray]:\n",
    "    \"\"\"ユニタリ対角化関数\n",
    "\n",
    "    Parameters\n",
    "    ----------\n",
    "    arr : np.ndarray\n",
    "        対角化する行列\n",
    "\n",
    "    Returns\n",
    "    -------\n",
    "    tuple[np.ndarray, np.ndarray]\n",
    "        対角化された行列とユニタリ行列\n",
    "\n",
    "    Raises\n",
    "    ------\n",
    "    ValueError\n",
    "        エルミート行列でない場合\n",
    "    \"\"\"\n",
    "    if ishermitian(arr, rtol=1e-05, atol=1e-08):\n",
    "        # エルミート行列の固有ベクトル\n",
    "        _, u = np.linalg.eigh(arr)\n",
    "\n",
    "        # Uの随伴行列(共役転置)\n",
    "        u_dagger = np.conjugate(u.T)\n",
    "\n",
    "        # エルミート行列をユニタリ行列で対角化\n",
    "        diag_matrix = u_dagger @ arr @ u\n",
    "\n",
    "        # データ型を整数に変更して小さな誤差が入っている虚部を取り除く\n",
    "        # 単位行列をかけて対角成分以外の要素の誤差を小さくする\n",
    "        diag_matrix = diag_matrix.astype(np.float64) * np.identity(\n",
    "            arr.shape[0], dtype=np.float64\n",
    "        )\n",
    "\n",
    "        return diag_matrix, u\n",
    "    else:\n",
    "        raise ValueError(\"The matrix is not Hermitian.\")\n",
    "\n",
    "\n",
    "s, U = unitary_diagonalization(S)\n",
    "\"\"\"s: 固有値\n",
    "U: 固有ベクトル\"\"\"\n",
    "print(f\"{s=}\")\n",
    "print(f\"{U=}\")"
   ]
  },
  {
   "cell_type": "markdown",
   "metadata": {},
   "source": [
    "正準直交化の変換行列 $X$ は、\n",
    "\n",
    "$$\n",
    "X_\\mathrm{can} = U s^{-\\frac{1}{2}} \\tag{4.36}\n",
    "$$"
   ]
  },
  {
   "cell_type": "code",
   "execution_count": 7,
   "metadata": {},
   "outputs": [
    {
     "data": {
      "text/plain": [
       "array([[1.50856849, 0.        ],\n",
       "       [0.        , 0.80048941]])"
      ]
     },
     "execution_count": 7,
     "metadata": {},
     "output_type": "execute_result"
    }
   ],
   "source": [
    "# 行列を^(-1/2)する。'-' は逆行列の意味\n",
    "def inverse_sqrt_matrix(arr: np.ndarray) -> np.ndarray:\n",
    "    \"\"\"行列の^(-1/2)を計算する関数\n",
    "\n",
    "    Parameters\n",
    "    ----------\n",
    "    arr : np.ndarray\n",
    "        ^(-1/2)を計算する行列\n",
    "\n",
    "    Returns\n",
    "    -------\n",
    "    np.ndarray\n",
    "        ^(-1/2)された行列\n",
    "    \"\"\"\n",
    "    return np.linalg.inv(np.sqrt(arr))\n",
    "\n",
    "\n",
    "inverse_sqrt_matrix(s)"
   ]
  },
  {
   "cell_type": "code",
   "execution_count": 8,
   "metadata": {},
   "outputs": [
    {
     "data": {
      "text/plain": [
       "array([[-1.06671901,  0.56603149],\n",
       "       [ 1.06671901,  0.56603149]])"
      ]
     },
     "execution_count": 8,
     "metadata": {},
     "output_type": "execute_result"
    }
   ],
   "source": [
    "X = U @ inverse_sqrt_matrix(s)\n",
    "\"\"\"正準直行化の変換行列\"\"\"\n",
    "X"
   ]
  },
  {
   "cell_type": "markdown",
   "metadata": {},
   "source": [
    "## コアハミルトニアン行列の計算\n",
    "\n",
    "核座標と基底関数のみに依存し、電子数には依存しない。"
   ]
  },
  {
   "cell_type": "code",
   "execution_count": 9,
   "metadata": {},
   "outputs": [
    {
     "data": {
      "text/plain": [
       "array([[-2.6444, -1.5118],\n",
       "       [-1.5118, -1.7782]])"
      ]
     },
     "execution_count": 9,
     "metadata": {},
     "output_type": "execute_result"
    }
   ],
   "source": [
    "H = np.array([[-2.6444, -1.5118], [-1.5118, -1.7782]])\n",
    "\"\"\"コアハミルトニアン行列 (付録より)\"\"\"\n",
    "H"
   ]
  },
  {
   "cell_type": "markdown",
   "metadata": {},
   "source": [
    "## 密度行列の初期値"
   ]
  },
  {
   "cell_type": "markdown",
   "metadata": {},
   "source": [
    "### 係数行列を求める方法"
   ]
  },
  {
   "cell_type": "markdown",
   "metadata": {},
   "source": [
    "#### 1-4-1と同じ方法\n",
    "\n",
    "コアハミルトニアン行列を使うパターン"
   ]
  },
  {
   "cell_type": "markdown",
   "metadata": {},
   "source": [
    "直行化基底に対するコアハミルトン行列 $H'$ は、\n",
    "\n",
    "$$\n",
    "H'=X^T HX   \\tag{4.2}\n",
    "$$"
   ]
  },
  {
   "cell_type": "code",
   "execution_count": 10,
   "metadata": {},
   "outputs": [
    {
     "data": {
      "text/plain": [
       "array([[-1.59190733,  0.52300857],\n",
       "       [ 0.52300857, -2.38570028]])"
      ]
     },
     "execution_count": 10,
     "metadata": {},
     "output_type": "execute_result"
    }
   ],
   "source": [
    "H_prime = X.T @ H @ X\n",
    "\"\"\"正準直交化基底に対するコアハミルトニアン行列\"\"\"\n",
    "H_prime"
   ]
  },
  {
   "cell_type": "code",
   "execution_count": 11,
   "metadata": {},
   "outputs": [
    {
     "data": {
      "text/plain": [
       "array([[-0.44468334, -0.89568785],\n",
       "       [ 0.89568785, -0.44468334]])"
      ]
     },
     "execution_count": 11,
     "metadata": {},
     "output_type": "execute_result"
    }
   ],
   "source": [
    "_, C_prime = unitary_diagonalization(H_prime)\n",
    "\"\"\"正準直交化基底に対する分子軌道係数行列\"\"\"\n",
    "C_prime"
   ]
  },
  {
   "cell_type": "code",
   "execution_count": 12,
   "metadata": {},
   "outputs": [
    {
     "data": {
      "text/plain": [
       "array([[ 0.9813397 ,  0.70374249],\n",
       "       [ 0.03263536, -1.20715203]])"
      ]
     },
     "execution_count": 12,
     "metadata": {},
     "output_type": "execute_result"
    }
   ],
   "source": [
    "C = X @ C_prime\n",
    "\"\"\"分子軌道係数行列\"\"\"\n",
    "C"
   ]
  },
  {
   "cell_type": "markdown",
   "metadata": {},
   "source": [
    "#### MO軌道をAOと仮定する方法"
   ]
  },
  {
   "cell_type": "markdown",
   "metadata": {},
   "source": [
    "$$\n",
    "\\varphi_1^\\alpha = \\varphi_1^\\beta = \\chi_1 \\\\\n",
    "\\varphi_2^\\alpha = \\varphi_2^\\beta = \\chi_2\n",
    "$$\n",
    "\n",
    "とする。\n",
    "\n",
    "つまり、1番目のMOはHeの1s軌道、2番目のMOはHの1s軌道と仮定している。\n",
    "\n",
    "これらは直交ではないので直交化してあげる必要がある。\n",
    "\n",
    "- 正準直交化: せっかく意味のあるMO軌道を仮定しているのに全く意味がなくなるので不適\n",
    "- 対称直交化: HF法では、占有軌道のみ直交化されれば良いのだが、すべての分子軌道に対して直交化が行われるので不適\n",
    "\n",
    "-> Gram-Schmidtの直交化 (今回のケースでは、$\\alpha$電子のすべてのMOが$\\alpha$電子の占有軌道となり、メリットはないが。)\n"
   ]
  },
  {
   "cell_type": "markdown",
   "metadata": {},
   "source": [
    "1番目の分子軌道について、\n",
    "\n",
    "$$\n",
    "|\\varphi'_1 \\rangle = \\frac{|\\varphi_1 \\rangle}{\\sqrt{\\langle \\varphi_1 |  \\varphi_1 \\rangle}} \\tag{4.44}\n",
    "$$\n",
    "\n",
    "より、\n",
    "\n",
    "$$\n",
    "|\\varphi'_1 \\rangle = \\frac{|\\chi_1 \\rangle}{\\sqrt{\\langle \\chi_1 |  \\chi_1 \\rangle}} = \\frac{|\\chi_1 \\rangle}{\\sqrt{1.0}} = |\\chi_1 \\rangle\n",
    "$$"
   ]
  },
  {
   "cell_type": "markdown",
   "metadata": {},
   "source": [
    "2番目の分子軌道について、\n",
    "\n",
    "$$\n",
    "|\\varphi''_2 \\rangle = |\\varphi_2 \\rangle - |\\varphi'_1 \\rangle  \\langle \\varphi'_1 | \\varphi_2 \\rangle = \\left( 1-|\\varphi'_1 \\rangle \\langle \\varphi'_1 | \\right) | \\varphi_2 \\rangle \\tag{4.45}\n",
    "$$\n",
    "\n",
    "より、\n",
    "\n",
    "$$\n",
    "\\begin{align*}\n",
    "    \\varphi''_2 &= |\\varphi_2 \\rangle - |\\varphi'_1 \\rangle  \\langle \\varphi'_1 | \\varphi_2 \\rangle \\\\\n",
    "    &= |\\chi_2 \\rangle - |\\chi_1 \\rangle \\langle \\chi_1 | \\chi_2 \\rangle \\\\\n",
    "    &= - 0.56059 \\times |\\chi_1 \\rangle + |\\chi_2 \\rangle\\ \\ \\ \\because 付録より \\langle \\chi_1 | \\chi_2 \\rangle = 0.56059\n",
    "\\end{align*}\n",
    "$$"
   ]
  },
  {
   "cell_type": "markdown",
   "metadata": {},
   "source": [
    "さらに、規格化する。\n",
    "\n",
    "$$\n",
    "|\\varphi'_2 \\rangle = \\frac{|\\varphi''_2 \\rangle}{\\sqrt{\\langle \\varphi''_2 | \\varphi''_2 \\rangle}} \\tag{4.46}\n",
    "$$\n",
    "\n",
    "より、\n",
    "\n",
    "$$\n",
    "\\begin{align*}\n",
    "    |\\varphi'_2 \\rangle &= \\frac{|\\varphi''_2 \\rangle}{\\sqrt{\\langle \\varphi''_2 | \\varphi''_2 \\rangle}} \\\\\n",
    "    &= \\frac{- 0.56059 \\times |\\chi_1 \\rangle + |\\chi_2 \\rangle}{\\sqrt{(- 0.56059)^2 \\langle \\chi_1 | \\chi_1 \\rangle + 2 \\cdot (- 0.56059) \\langle \\chi_1 | \\chi_2 \\rangle + \\langle \\chi_2 | \\chi_2 \\rangle }} \\\\\n",
    "    &= \\frac{- 0.56059 \\times |\\chi_1 \\rangle + |\\chi_2 \\rangle}{\\sqrt{(- 0.56059)^2 \\cdot 1.0 + 2 \\cdot (- 0.56059) \\cdot (-0.56059) + 1.0 }} \\\\\n",
    "    &= \\frac{- 0.56059 \\times |\\chi_1 \\rangle + |\\chi_2 \\rangle}{1.39384} \\\\\n",
    "    &= -0.40220 \\times |\\chi_1 \\rangle + 0.71744 \\times |\\chi_2 \\rangle\n",
    "\\end{align*}\n",
    "\n",
    "\n",
    "$$"
   ]
  },
  {
   "cell_type": "markdown",
   "metadata": {},
   "source": [
    "つまり、"
   ]
  },
  {
   "cell_type": "code",
   "execution_count": 13,
   "metadata": {},
   "outputs": [
    {
     "data": {
      "text/plain": [
       "array([[ 1.     , -0.4022 ],\n",
       "       [ 0.     ,  0.71744]])"
      ]
     },
     "execution_count": 13,
     "metadata": {},
     "output_type": "execute_result"
    }
   ],
   "source": [
    "C = np.array([[1.0, -0.40220], [0.0, 0.71744]])\n",
    "\"\"\"分子軌道係数行列\"\"\"\n",
    "C"
   ]
  },
  {
   "cell_type": "markdown",
   "metadata": {},
   "source": [
    "### 係数行列から密度行列を求める"
   ]
  },
  {
   "cell_type": "markdown",
   "metadata": {},
   "source": [
    "密度行列 $\\boldsymbol{P}$ は、$\\alpha$スピン、$\\beta$スピンそれぞれに対して、\n",
    "\n",
    "$$\n",
    "P_{\\mu\\nu}^\\alpha = 2 \\sum_{i} {c_{\\mu i}^\\alpha}^* c_{\\nu i}^\\alpha \\ ,\\  P_{\\mu\\nu}^\\beta = 2 \\sum_{i} {c_{\\mu i}^\\beta}^* c_{\\nu i}^\\beta \\tag{5.19}\n",
    "$$\n",
    "\n",
    "$i$は、分子軌道の足、$\\mu, \\nu$は原子軌道の足"
   ]
  },
  {
   "cell_type": "markdown",
   "metadata": {},
   "source": [
    "HeH では、$N_\\alpha=2, N_\\beta=1$より、\n",
    "\n",
    "$$\n",
    "\\begin{align*}\n",
    "    P_{\\mu \\nu}^\\alpha &= 2 \\left(c_{\\mu 1}^\\alpha c_{\\nu 1}^\\alpha + c_{\\mu 2}^\\alpha c_{\\nu 2}^\\alpha \\right) \\\\\n",
    "    P_{\\mu \\nu}^\\beta &= 2 c_{\\mu 1}^\\beta c_{\\nu 1}^\\beta\n",
    "\\end{align*}\n",
    "$$"
   ]
  },
  {
   "cell_type": "code",
   "execution_count": 14,
   "metadata": {},
   "outputs": [
    {
     "data": {
      "text/plain": [
       "array([[ 1.16176484, -0.28855437],\n",
       "       [-0.28855437,  0.51472015]])"
      ]
     },
     "execution_count": 14,
     "metadata": {},
     "output_type": "execute_result"
    }
   ],
   "source": [
    "def calculate_density_matrix_alpha(C: np.ndarray) -> np.ndarray:\n",
    "    \"\"\"密度行列を計算する関数\n",
    "\n",
    "    Parameters\n",
    "    ----------\n",
    "    C : np.ndarray\n",
    "        分子軌道係数行列\n",
    "\n",
    "    Returns\n",
    "    -------\n",
    "    np.ndarray\n",
    "        密度行列\n",
    "    \"\"\"\n",
    "    return C @ C.T  # 1-4-1と違って2を掛けないのは閉殻でないから。\n",
    "\n",
    "\n",
    "P_alpha = calculate_density_matrix_alpha(C)\n",
    "\"\"\"密度行列\"\"\"\n",
    "P_alpha"
   ]
  },
  {
   "cell_type": "code",
   "execution_count": 15,
   "metadata": {},
   "outputs": [
    {
     "data": {
      "text/plain": [
       "array([[1., 0.],\n",
       "       [0., 0.]])"
      ]
     },
     "execution_count": 15,
     "metadata": {},
     "output_type": "execute_result"
    }
   ],
   "source": [
    "def calculate_density_matrix_beta(C: np.ndarray) -> np.ndarray:\n",
    "    \"\"\"密度行列を計算する関数\n",
    "\n",
    "    Parameters\n",
    "    ----------\n",
    "    C : np.ndarray\n",
    "        分子軌道係数行列\n",
    "\n",
    "    Returns\n",
    "    -------\n",
    "    np.ndarray\n",
    "        密度行列\n",
    "    \"\"\"\n",
    "    return (\n",
    "        C[:, [0]] @ C[:, [0]].T\n",
    "    )  # 1-4-1と違って2を掛けないのは閉殻でないから。\n",
    "\n",
    "\n",
    "P_beta = calculate_density_matrix_beta(C)\n",
    "\"\"\"密度行列\"\"\"\n",
    "P_beta"
   ]
  },
  {
   "cell_type": "markdown",
   "metadata": {},
   "source": [
    "## 電子反発積分の計算"
   ]
  },
  {
   "cell_type": "code",
   "execution_count": 16,
   "metadata": {},
   "outputs": [],
   "source": [
    "MAP_ELECTRON_REPULSION_INTEGRAL = MappingProxyType(\n",
    "    {\n",
    "        ((1, 1), (1, 1)): 1.05625,\n",
    "        ((1, 1), (1, 2)): 0.46768,\n",
    "        ((1, 1), (2, 1)): 0.46768,\n",
    "        ((1, 1), (2, 2)): 0.60640,\n",
    "        ((1, 2), (1, 1)): 0.46768,\n",
    "        ((1, 2), (1, 2)): 0.24649,\n",
    "        ((1, 2), (2, 1)): 0.24649,\n",
    "        ((1, 2), (2, 2)): 0.38871,\n",
    "        ((2, 1), (1, 1)): 0.46768,\n",
    "        ((2, 1), (1, 2)): 0.24649,\n",
    "        ((2, 1), (2, 1)): 0.24649,\n",
    "        ((2, 1), (2, 2)): 0.38871,\n",
    "        ((2, 2), (1, 1)): 0.60640,\n",
    "        ((2, 2), (1, 2)): 0.38871,\n",
    "        ((2, 2), (2, 1)): 0.38871,\n",
    "        ((2, 2), (2, 2)): 0.77500,\n",
    "    }\n",
    ")\n",
    "\"\"\"電子反発積分 (付録より)\"\"\"\n",
    "None"
   ]
  },
  {
   "cell_type": "markdown",
   "metadata": {},
   "source": [
    "## Fock行列の計算"
   ]
  },
  {
   "cell_type": "markdown",
   "metadata": {},
   "source": [
    "$$\n",
    "F_{\\mu \\nu}^\\alpha = H_{\\mu \\nu} + G_{\\mu \\nu}^\\alpha  \\\\\n",
    "F_{\\mu \\nu}^\\beta = H_{\\mu \\nu} + G_{\\mu \\nu}^\\beta \\tag{5.26}\n",
    "$$\n",
    "\n",
    "$H_{\\mu \\nu}$ は、[先ほど](#コアハミルトニアン行列の計算)求めているので、$G_{\\mu \\nu}^\\alpha, G_{\\mu \\nu}^\\beta$ を求めたい。\n",
    "\n",
    "$$\n",
    "\\begin{align*}\n",
    "    J_{\\mu \\nu}^\\alpha = \\sum_{\\lambda, \\sigma} (\\mu \\nu | \\lambda \\sigma) P_{\\lambda \\sigma}^\\alpha \\ &,\\ J_{\\mu \\nu}^\\beta = \\sum_{\\lambda, \\sigma} (\\mu \\nu | \\lambda \\sigma) P_{\\lambda \\sigma}^\\beta \\tag{5.21} \\\\\n",
    "    K_{\\mu \\nu}^\\alpha = \\sum_{\\lambda, \\sigma} (\\mu \\sigma | \\lambda \\nu) P_{\\lambda \\sigma}^\\alpha \\ &,\\ K_{\\mu \\nu}^\\beta = \\sum_{\\lambda, \\sigma} (\\mu \\sigma | \\lambda \\nu) P_{\\lambda \\sigma}^\\beta \\tag{5.22} \\\\\n",
    "    G_{\\mu \\nu}^\\alpha = J_{\\mu \\nu}^\\alpha - K_{\\mu \\nu}^\\alpha + J_{\\mu \\nu}^\\beta \\ &,\\ G_{\\mu \\nu}^\\beta = J_{\\mu \\nu}^\\beta - K_{\\mu \\nu}^\\beta + J_{\\mu \\nu}^\\alpha \\tag{5.23} \\\\\n",
    "\\end{align*}\n",
    "$$"
   ]
  },
  {
   "cell_type": "code",
   "execution_count": 17,
   "metadata": {},
   "outputs": [],
   "source": [
    "def calculate_coulomb_energy_matrix(P: np.ndarray) -> np.ndarray:\n",
    "    \"\"\"クーロンエネルギー行列を計算する関数\n",
    "\n",
    "    Parameters\n",
    "    ----------\n",
    "    P : np.ndarray\n",
    "        密度行列\n",
    "\n",
    "    Returns\n",
    "    -------\n",
    "    np.ndarray\n",
    "        クーロンエネルギー行列\n",
    "    \"\"\"\n",
    "    return np.array(\n",
    "        [\n",
    "            [\n",
    "                sum(\n",
    "                    MAP_ELECTRON_REPULSION_INTEGRAL[\n",
    "                        (_mu, _nu), (_lambda, _sigma)\n",
    "                    ]\n",
    "                    * P[_lambda - 1, _sigma - 1]  # Pは0-indexedなので-1する\n",
    "                    for _lambda, _sigma in product((1, 2), repeat=2)\n",
    "                )\n",
    "                for _nu in (1, 2)\n",
    "            ]\n",
    "            for _mu in (1, 2)\n",
    "        ]\n",
    "    )"
   ]
  },
  {
   "cell_type": "code",
   "execution_count": 18,
   "metadata": {},
   "outputs": [
    {
     "data": {
      "text/plain": [
       "array([[1.2693382 , 0.60115952],\n",
       "       [0.60115952, 0.87907438]])"
      ]
     },
     "execution_count": 18,
     "metadata": {},
     "output_type": "execute_result"
    }
   ],
   "source": [
    "J_alpha = calculate_coulomb_energy_matrix(P_alpha)\n",
    "\"\"\"クーロンエネルギー行列\"\"\"\n",
    "J_alpha"
   ]
  },
  {
   "cell_type": "code",
   "execution_count": 19,
   "metadata": {},
   "outputs": [
    {
     "data": {
      "text/plain": [
       "array([[1.05625, 0.46768],\n",
       "       [0.46768, 0.6064 ]])"
      ]
     },
     "execution_count": 19,
     "metadata": {},
     "output_type": "execute_result"
    }
   ],
   "source": [
    "J_beta = calculate_coulomb_energy_matrix(P_beta)\n",
    "\"\"\"クーロンエネルギー行列\"\"\"\n",
    "J_beta"
   ]
  },
  {
   "cell_type": "code",
   "execution_count": 20,
   "metadata": {},
   "outputs": [],
   "source": [
    "def calculate_exchange_energy_matrix(P: np.ndarray) -> np.ndarray:\n",
    "    \"\"\"交換エネルギー行列を計算する関数\n",
    "\n",
    "    Parameters\n",
    "    ----------\n",
    "    P : np.ndarray\n",
    "        密度行列\n",
    "\n",
    "    Returns\n",
    "    -------\n",
    "    np.ndarray\n",
    "        交換エネルギー行列\n",
    "    \"\"\"\n",
    "    return np.array(\n",
    "        [\n",
    "            [\n",
    "                sum(\n",
    "                    MAP_ELECTRON_REPULSION_INTEGRAL[\n",
    "                        (_mu, _sigma), (_lambda, _nu)\n",
    "                    ]\n",
    "                    * P[_lambda - 1, _sigma - 1]  # Pは0-indexedなので-1する\n",
    "                    for _lambda, _sigma in product((1, 2), repeat=2)\n",
    "                )\n",
    "                for _nu in (1, 2)\n",
    "            ]\n",
    "            for _mu in (1, 2)\n",
    "        ]\n",
    "    )"
   ]
  },
  {
   "cell_type": "code",
   "execution_count": 21,
   "metadata": {},
   "outputs": [
    {
     "data": {
      "text/plain": [
       "array([[1.08408527, 0.49730592],\n",
       "       [0.49730592, 0.4609436 ]])"
      ]
     },
     "execution_count": 21,
     "metadata": {},
     "output_type": "execute_result"
    }
   ],
   "source": [
    "K_alpha = calculate_exchange_energy_matrix(P_alpha)\n",
    "\"\"\"交換エネルギー行列\"\"\"\n",
    "K_alpha"
   ]
  },
  {
   "cell_type": "code",
   "execution_count": 22,
   "metadata": {},
   "outputs": [
    {
     "data": {
      "text/plain": [
       "array([[1.05625, 0.46768],\n",
       "       [0.46768, 0.24649]])"
      ]
     },
     "execution_count": 22,
     "metadata": {},
     "output_type": "execute_result"
    }
   ],
   "source": [
    "K_beta = calculate_exchange_energy_matrix(P_beta)\n",
    "\"\"\"交換エネルギー行列\"\"\"\n",
    "K_beta"
   ]
  },
  {
   "cell_type": "code",
   "execution_count": 23,
   "metadata": {},
   "outputs": [
    {
     "data": {
      "text/plain": [
       "array([[1.24150293, 0.5715336 ],\n",
       "       [0.5715336 , 1.02453078]])"
      ]
     },
     "execution_count": 23,
     "metadata": {},
     "output_type": "execute_result"
    }
   ],
   "source": [
    "G_alpha = J_alpha - K_alpha + J_beta\n",
    "\"\"\"2電子積分行列\"\"\"\n",
    "G_alpha"
   ]
  },
  {
   "cell_type": "code",
   "execution_count": 24,
   "metadata": {},
   "outputs": [
    {
     "data": {
      "text/plain": [
       "array([[1.2693382 , 0.60115952],\n",
       "       [0.60115952, 1.23898438]])"
      ]
     },
     "execution_count": 24,
     "metadata": {},
     "output_type": "execute_result"
    }
   ],
   "source": [
    "G_beta = J_beta - K_beta + J_alpha\n",
    "\"\"\"2電子積分行列\"\"\"\n",
    "G_beta"
   ]
  },
  {
   "cell_type": "code",
   "execution_count": 25,
   "metadata": {},
   "outputs": [
    {
     "data": {
      "text/plain": [
       "array([[-1.40289707, -0.9402664 ],\n",
       "       [-0.9402664 , -0.75366922]])"
      ]
     },
     "execution_count": 25,
     "metadata": {},
     "output_type": "execute_result"
    }
   ],
   "source": [
    "F_alpha = H + G_alpha\n",
    "\"\"\"Fock行列\"\"\"\n",
    "F_alpha"
   ]
  },
  {
   "cell_type": "code",
   "execution_count": 26,
   "metadata": {},
   "outputs": [
    {
     "data": {
      "text/plain": [
       "array([[-1.3750618 , -0.91064048],\n",
       "       [-0.91064048, -0.53921562]])"
      ]
     },
     "execution_count": 26,
     "metadata": {},
     "output_type": "execute_result"
    }
   ],
   "source": [
    "F_beta = H + G_beta\n",
    "\"\"\"Fock行列\"\"\"\n",
    "F_beta"
   ]
  },
  {
   "cell_type": "code",
   "execution_count": 27,
   "metadata": {},
   "outputs": [],
   "source": [
    "def density2fock(\n",
    "    P_alpha: np.ndarray, P_beta: np.ndarray\n",
    ") -> tuple[np.ndarray, np.ndarray]:\n",
    "    \"\"\"密度行列からFock行列を計算する関数\n",
    "\n",
    "    Parameters\n",
    "    ----------\n",
    "    P_alpha : np.ndarray\n",
    "        upスピンの密度行列\n",
    "    P_beta : np.ndarray\n",
    "        downスピンの密度行列\n",
    "\n",
    "    Returns\n",
    "    -------\n",
    "    tuple[np.ndarray, np.ndarray]\n",
    "        upスピンとdownスピンのFock行列\n",
    "    \"\"\"\n",
    "    J_alpha = calculate_coulomb_energy_matrix(P_alpha)\n",
    "    K_alpha = calculate_exchange_energy_matrix(P_alpha)\n",
    "    J_beta = calculate_coulomb_energy_matrix(P_beta)\n",
    "    K_beta = calculate_exchange_energy_matrix(P_beta)\n",
    "\n",
    "    G_alpha = J_alpha - K_alpha + J_beta\n",
    "    G_beta = J_beta - K_beta + J_alpha\n",
    "    return H + G_alpha, H + G_beta"
   ]
  },
  {
   "cell_type": "code",
   "execution_count": 28,
   "metadata": {},
   "outputs": [
    {
     "data": {
      "text/plain": [
       "(array([[-1.40289707, -0.9402664 ],\n",
       "        [-0.9402664 , -0.75366922]]),\n",
       " array([[-1.3750618 , -0.91064048],\n",
       "        [-0.91064048, -0.53921562]]))"
      ]
     },
     "execution_count": 28,
     "metadata": {},
     "output_type": "execute_result"
    }
   ],
   "source": [
    "density2fock(P_alpha, P_beta)"
   ]
  },
  {
   "cell_type": "markdown",
   "metadata": {},
   "source": [
    "## RHFエネルギーの計算"
   ]
  },
  {
   "cell_type": "markdown",
   "metadata": {},
   "source": [
    "$$\n",
    "E_0^\\mathrm{UHF} = \\frac{1}{2} \\sum_{\\mu,\\nu} P_{\\mu \\nu}^\\alpha \\left[ H_{\\mu \\nu} + F_{\\mu \\nu}^\\alpha \\right] + \\frac{1}{2} \\sum_{\\mu,\\nu} P_{\\mu \\nu}^\\beta \\left[ H_{\\mu \\nu} + F_{\\mu \\nu}^\\beta \\right]  \\tag{5.27}\n",
    "$$"
   ]
  },
  {
   "cell_type": "code",
   "execution_count": 29,
   "metadata": {},
   "outputs": [
    {
     "data": {
      "text/plain": [
       "-4.304782202719984"
      ]
     },
     "execution_count": 29,
     "metadata": {},
     "output_type": "execute_result"
    }
   ],
   "source": [
    "E_0 = 0.5 * np.sum(P_alpha * (H + F_alpha)) + 0.5 * np.sum(\n",
    "    P_beta * (H + F_beta)\n",
    ")\n",
    "\"\"\"ハミルトニアンに対するRHFエネルギー\"\"\"\n",
    "E_0"
   ]
  },
  {
   "cell_type": "code",
   "execution_count": 30,
   "metadata": {},
   "outputs": [
    {
     "data": {
      "text/plain": [
       "-2.8762107741485554"
      ]
     },
     "execution_count": 30,
     "metadata": {},
     "output_type": "execute_result"
    }
   ],
   "source": [
    "E_tot = E_0 + V_nuc\n",
    "\"\"\"RHF全エネルギー\"\"\"\n",
    "E_tot"
   ]
  },
  {
   "cell_type": "code",
   "execution_count": 31,
   "metadata": {},
   "outputs": [],
   "source": [
    "def calculate_total_energy(P_alpha: np.ndarray, P_beta: np.ndarray) -> float:\n",
    "    \"\"\"全エネルギーを計算する関数\n",
    "\n",
    "    Parameters\n",
    "    ----------\n",
    "    P_alpha : np.ndarray\n",
    "        upスピンの密度行列\n",
    "    P_beta : np.ndarray\n",
    "        downスピンの密度行列\n",
    "\n",
    "    Returns\n",
    "    -------\n",
    "    float\n",
    "        全エネルギー\n",
    "    \"\"\"\n",
    "    F_alpha, F_beta = density2fock(P_alpha, P_beta)\n",
    "    return (\n",
    "        0.5 * np.sum(P_alpha * (H + F_alpha))\n",
    "        + 0.5 * np.sum(P_beta * (H + F_beta))\n",
    "        + V_nuc\n",
    "    )"
   ]
  },
  {
   "cell_type": "code",
   "execution_count": 32,
   "metadata": {},
   "outputs": [
    {
     "data": {
      "text/plain": [
       "-2.8762107741485554"
      ]
     },
     "execution_count": 32,
     "metadata": {},
     "output_type": "execute_result"
    }
   ],
   "source": [
    "calculate_total_energy(P_alpha, P_beta)"
   ]
  },
  {
   "cell_type": "markdown",
   "metadata": {},
   "source": [
    "## Pople-Nesbet方程式の解法\n",
    "\n",
    "基本的には[Fock行列を求める](#fock行列の計算)から[RHFエネルギーの計算](#rhfエネルギーの計算)までを繰り返して、収束要件を満たしたら終わり。"
   ]
  },
  {
   "cell_type": "code",
   "execution_count": 33,
   "metadata": {},
   "outputs": [],
   "source": [
    "def scf_cycle(\n",
    "    P_alpha: np.ndarray, P_beta: np.ndarray, threshold: float = 1e-4\n",
    ") -> tuple[float, tuple[np.ndarray, np.ndarray]]:\n",
    "    \"\"\"SCFサイクルを行う関数\n",
    "\n",
    "    Parameters\n",
    "    ----------\n",
    "    P_alpha : np.ndarray\n",
    "        upスピンの密度行列\n",
    "    P_beta : np.ndarray\n",
    "        downスピンの密度行列\n",
    "\n",
    "    Returns\n",
    "    -------\n",
    "    tuple[float, tuple[np.ndarray, np.ndarray]]\n",
    "        全エネルギーとupスピン、downスピンの密度行列\n",
    "    \"\"\"\n",
    "    # 初期化\n",
    "    E_tot_prev = np.inf\n",
    "    # 全エネルギー\n",
    "    E_tot = calculate_total_energy(P_alpha, P_beta)\n",
    "    # 収束判定 (全エネルギーの変化量が閾値以下になるまで繰り返す)\n",
    "    while (E_tot_prev - E_tot) > threshold:\n",
    "        print(f\"{E_tot=}\")\n",
    "        # 全エネルギーを保存\n",
    "        E_tot_prev = E_tot\n",
    "        # 密度行列からFock行列を計算\n",
    "        F_alpha, F_beta = density2fock(P_alpha, P_beta)\n",
    "        # 直交化基底に対するFock行列\n",
    "        F_alpha_prime = X.T @ F_alpha @ X\n",
    "        F_beta_prime = X.T @ F_beta @ X\n",
    "        # Fock行列をユニタリ対角化して、(軌道エネルギーと) 分子軌道係数行列を求める\n",
    "        _, C_alpha_prime = unitary_diagonalization(F_alpha_prime)\n",
    "        _, C_beta_prime = unitary_diagonalization(F_beta_prime)\n",
    "        # 分子軌道係数行列を元の基底に戻す\n",
    "        C_alpha = X @ C_alpha_prime\n",
    "        C_beta = X @ C_beta_prime\n",
    "        # 密度行列を計算\n",
    "        P_alpha = calculate_density_matrix_alpha(C_alpha)\n",
    "        P_beta = calculate_density_matrix_beta(C_beta)\n",
    "        # 全エネルギーを計算\n",
    "        E_tot = calculate_total_energy(P_alpha, P_beta)\n",
    "    return E_tot, (P_alpha, P_beta)"
   ]
  },
  {
   "cell_type": "code",
   "execution_count": 34,
   "metadata": {},
   "outputs": [
    {
     "name": "stdout",
     "output_type": "stream",
     "text": [
      "E_tot=-2.8762107741485554\n",
      "E_tot=-3.0263324254062027\n",
      "E_tot=-3.0265463639279426\n",
      "energy_total_opt=-3.0265693671074896\n",
      "P_alpha_opt=array([[ 1.45828109, -0.8174978 ],\n",
      "       [-0.8174978 ,  1.45828109]])\n",
      "P_beta_opt=array([[0.8198976 , 0.13947455],\n",
      "       [0.13947455, 0.02372632]])\n"
     ]
    }
   ],
   "source": [
    "energy_total_opt, (P_alpha_opt, P_beta_opt) = scf_cycle(P_alpha, P_beta)\n",
    "\"\"\"最適化された全エネルギーと密度行列\"\"\"\n",
    "print(f\"{energy_total_opt=}\")\n",
    "print(f\"{P_alpha_opt=}\")\n",
    "print(f\"{P_beta_opt=}\")"
   ]
  },
  {
   "cell_type": "markdown",
   "metadata": {},
   "source": [
    "## 分子物性の計算"
   ]
  },
  {
   "cell_type": "markdown",
   "metadata": {},
   "source": [
    "Mullikenの電荷解析\n",
    "\n",
    "$$\n",
    "N_A^\\mathrm{Mul} = \\sum_{\\mu \\in A} \\sum_{\\nu} P_{\\mu \\nu} S_{\\nu \\mu} = \\sum_{\\mu \\in A} (\\rm{PS})_{\\mu \\mu} \\tag{4.53}\n",
    "$$"
   ]
  },
  {
   "cell_type": "code",
   "execution_count": 35,
   "metadata": {},
   "outputs": [
    {
     "name": "stdout",
     "output_type": "stream",
     "text": [
      "N_H=1.8980856416220404\n",
      "N_He=1.1019143583779603\n"
     ]
    }
   ],
   "source": [
    "PS_alpha = P_alpha_opt @ S\n",
    "\"\"\"upスピンの密度行列と重なり行列の積\"\"\"\n",
    "PS_beta = P_beta_opt @ S\n",
    "\"\"\"downスピンの密度行列と重なり行列の積\"\"\"\n",
    "\n",
    "N_H_alpha = PS_alpha[0, 0]\n",
    "\"\"\"upスピンのH原子の電子数\"\"\"\n",
    "N_H_beta = PS_beta[0, 0]\n",
    "\"\"\"downスピンのH原子の電子数\"\"\"\n",
    "N_He_alpha = PS_alpha[1, 1]\n",
    "\"\"\"upスピンのHe原子の電子数\"\"\"\n",
    "N_He_beta = PS_beta[1, 1]\n",
    "\"\"\"downスピンのHe原子の電子数\"\"\"\n",
    "\n",
    "N_H = N_H_alpha + N_H_beta\n",
    "\"\"\"H原子の電子数\"\"\"\n",
    "N_He = N_He_alpha + N_He_beta\n",
    "\"\"\"He原子の電子数\"\"\"\n",
    "\n",
    "print(f\"{N_H=}\")\n",
    "print(f\"{N_He=}\")"
   ]
  },
  {
   "cell_type": "markdown",
   "metadata": {},
   "source": [
    "よって、Mulliken電荷は、\n",
    "$$\n",
    "Q_A = Z_A - N_A^\\mathrm{mul} \\tag{4.54}\n",
    "$$\n",
    "より、"
   ]
  },
  {
   "cell_type": "code",
   "execution_count": 36,
   "metadata": {},
   "outputs": [
    {
     "name": "stdout",
     "output_type": "stream",
     "text": [
      "Q_He=0.8980856416220397\n",
      "Q_H=-0.8980856416220404\n"
     ]
    }
   ],
   "source": [
    "Q_He = Z_He - N_He\n",
    "\"\"\"Heの電荷\"\"\"\n",
    "Q_H = Z_H - N_H\n",
    "\"\"\"Hの電荷\"\"\"\n",
    "print(f\"{Q_He=}\")\n",
    "print(f\"{Q_H=}\")"
   ]
  },
  {
   "cell_type": "code",
   "execution_count": 37,
   "metadata": {},
   "outputs": [
    {
     "name": "stdout",
     "output_type": "stream",
     "text": [
      "epsilon_alpha_opt=array([[-1.13659465, -0.        ],\n",
      "       [ 0.        , -0.16165358]])\n",
      "C_alpha_opt=array([[ 0.87104765,  0.83639529],\n",
      "       [ 0.2043129 , -1.19018374]])\n",
      "epsilon_beta_opt=array([[-1.00238499,  0.        ],\n",
      "       [-0.        ,  0.59822173]])\n",
      "C_beta_opt=array([[ 0.90461954,  0.79996536],\n",
      "       [ 0.15532545, -1.19756215]])\n"
     ]
    }
   ],
   "source": [
    "F_alpha_opt, F_beta_opt = density2fock(P_alpha_opt, P_beta_opt)\n",
    "\n",
    "epsilon_alpha_opt, C_prime_alpha_opt = unitary_diagonalization(\n",
    "    X.T @ F_alpha_opt @ X\n",
    ")\n",
    "epsilon_beta_opt, C_prime_beta_opt = unitary_diagonalization(\n",
    "    X.T @ F_beta_opt @ X\n",
    ")\n",
    "\n",
    "C_alpha_opt = X @ C_prime_alpha_opt\n",
    "C_beta_opt = X @ C_prime_beta_opt\n",
    "\n",
    "print(f\"{epsilon_alpha_opt=}\")\n",
    "print(f\"{C_alpha_opt=}\")\n",
    "print(f\"{epsilon_beta_opt=}\")\n",
    "print(f\"{C_beta_opt=}\")"
   ]
  },
  {
   "cell_type": "markdown",
   "metadata": {},
   "source": [
    "Koopmansの定理より、イオン化エネルギーおよび電子親和力は、"
   ]
  },
  {
   "cell_type": "code",
   "execution_count": 38,
   "metadata": {},
   "outputs": [
    {
     "name": "stdout",
     "output_type": "stream",
     "text": [
      "ionic_potential_energy=0.16165357745391631 hartree\n"
     ]
    }
   ],
   "source": [
    "ionic_potential_energy = -epsilon_alpha_opt[1, 1]\n",
    "\"\"\"イオン化ポテンシャルエネルギー\"\"\"\n",
    "print(f\"{ionic_potential_energy=} hartree\")"
   ]
  },
  {
   "cell_type": "code",
   "execution_count": 39,
   "metadata": {},
   "outputs": [
    {
     "name": "stdout",
     "output_type": "stream",
     "text": [
      "electron_affinity=-0.598221730872059 hartree\n"
     ]
    }
   ],
   "source": [
    "electron_affinity = -epsilon_beta_opt[1, 1]\n",
    "\"\"\"電気陰性度\"\"\"\n",
    "print(f\"{electron_affinity=} hartree\")"
   ]
  }
 ],
 "metadata": {
  "jupytext": {
   "formats": "ipynb,py:percent"
  },
  "kernelspec": {
   "display_name": "py311",
   "language": "python",
   "name": "python3"
  },
  "language_info": {
   "codemirror_mode": {
    "name": "ipython",
    "version": 3
   },
   "file_extension": ".py",
   "mimetype": "text/x-python",
   "name": "python",
   "nbconvert_exporter": "python",
   "pygments_lexer": "ipython3",
   "version": "3.11.11"
  }
 },
 "nbformat": 4,
 "nbformat_minor": 2
}
